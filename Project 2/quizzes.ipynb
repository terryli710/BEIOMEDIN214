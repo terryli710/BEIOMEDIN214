{
 "cells": [
  {
   "cell_type": "code",
   "execution_count": 1,
   "metadata": {},
   "outputs": [],
   "source": [
    "from gsea import *"
   ]
  },
  {
   "cell_type": "code",
   "execution_count": 2,
   "metadata": {},
   "outputs": [
    {
     "data": {
      "text/plain": "['.ipynb_checkpoints',\n 'c2.cp.kegg.v6.2.symbols.filtered.gmt',\n 'GSE25628_filtered_expression.txt',\n 'GSE25628_samples.txt',\n 'gsea.py',\n 'knn.py',\n 'Project 2.zip',\n 'quizzes.ipynb',\n 'README.md',\n '__pycache__']"
     },
     "execution_count": 2,
     "metadata": {},
     "output_type": "execute_result"
    }
   ],
   "source": [
    "os.listdir()"
   ]
  },
  {
   "cell_type": "code",
   "execution_count": 3,
   "metadata": {
    "pycharm": {
     "name": "#%%\n"
    }
   },
   "outputs": [],
   "source": [
    "gsea = GSEA()\n",
    "gsea.load_data('GSE25628_filtered_expression.txt', 'GSE25628_samples.txt', 'c2.cp.kegg.v6.2.symbols.filtered.gmt')"
   ]
  },
  {
   "cell_type": "code",
   "execution_count": 5,
   "metadata": {},
   "outputs": [
    {
     "data": {
      "text/plain": "['PTGIS',\n 'CNN1',\n 'TAGLN',\n 'C7',\n 'ACTG2',\n 'TCF21',\n 'WISP2',\n 'FOS',\n 'FOSB',\n 'KCNMB1',\n 'ACKR1',\n 'PDLIM3',\n 'GPC3',\n 'MYL9',\n 'DPT',\n 'AQP1',\n 'FZD7',\n 'MYH11',\n 'ACTA2',\n 'TCEAL2',\n 'CCL14',\n 'SYNPO',\n 'KLF2',\n 'AOC3',\n 'FMO1',\n 'DES',\n 'MT1M',\n 'IGFBP6',\n 'MGP',\n 'HOXC6',\n 'EGR1',\n 'MFAP4',\n 'PLA2G2A',\n 'MN1',\n 'PCP4',\n 'AEBP1',\n 'FXYD1',\n 'TPSB2',\n 'ADIRF',\n 'NBL1',\n 'PDGFRL',\n 'PLVAP',\n 'BCHE',\n 'SCRG1',\n 'PLN',\n 'WIF1',\n 'BGN',\n 'KCNK3',\n 'PRELP',\n 'PCOLCE2',\n 'MMP23A',\n 'MINOS1-NBL1',\n 'LMOD1',\n 'MMRN2',\n 'CHRDL1',\n 'CCL19',\n 'MYLK',\n 'PDE2A',\n 'OLFML1',\n 'CLU',\n 'HSPB7',\n 'CCL21',\n 'GAS1',\n 'EMILIN1',\n 'ITM2A',\n 'DPYSL3',\n 'FABP4',\n 'LTBP2',\n 'SRPX2',\n 'FBLN5',\n 'FRZB',\n 'ASPN',\n 'HSPB6',\n 'JAM2',\n 'DKK3',\n 'RAMP3',\n 'SFRP1',\n 'THBS2',\n 'FEZ1',\n 'IGFBP4',\n 'CYR61',\n 'SELP',\n 'CPE',\n 'CA11',\n 'PTRF',\n 'CXCL12',\n 'FMOD',\n 'CFD',\n 'MFAP5',\n 'COMP',\n 'FXYD6',\n 'PAMR1',\n 'CRYAB',\n 'C3',\n 'SRPX',\n 'SMTN',\n 'SYNM',\n 'COL6A2',\n 'LIMS2',\n 'PAEP',\n 'SOX18',\n 'CDH3',\n 'PTGER3',\n 'NGFR',\n 'LRRC32',\n 'GPX3',\n 'TSPAN7',\n 'THY1',\n 'MEOX1',\n 'C4A',\n 'RARRES2',\n 'GSTM5',\n 'APLNR',\n 'TIMP2',\n 'IGFBP5',\n 'RASL11B',\n 'THBS1',\n 'TPSAB1',\n 'CPZ',\n 'GJA4',\n 'ANXA6',\n 'BAMBI',\n 'AHNAK2',\n 'CSRP1',\n 'APOD',\n 'PRKCDBP',\n 'CLIP3',\n 'SLCO2A1',\n 'AOX1',\n 'ACTC1',\n 'DPP6',\n 'ZFHX4',\n 'NRN1',\n 'NID2',\n 'MYOZ3',\n 'CLDN5',\n 'LOC728392',\n 'GGT5',\n 'VWF',\n 'FABP3',\n 'SERPING1',\n 'HSPB8',\n 'MXRA5',\n 'SEMA3G',\n 'SVEP1',\n 'DOK5',\n 'TIE1',\n 'NES',\n 'OLFML2A',\n 'FLNA',\n 'RGS2',\n 'DCLK1',\n 'FXYD5',\n 'ZFP36',\n 'COPZ2',\n 'TGFB1I1',\n 'CTSG',\n 'PHYHIP',\n 'ITGA7',\n 'COL8A2',\n 'CD34',\n 'MAN1C1',\n 'CES1',\n 'HTRA1',\n 'EGR2',\n 'LTBP3',\n 'COL14A1',\n 'TGFB3',\n 'SST',\n 'JUNB',\n 'KCNE4',\n 'LTC4S',\n 'ISLR',\n 'GSTM3',\n 'TIMP3',\n 'TMEM204',\n 'TIMP1',\n 'TNXA',\n 'LBH',\n 'COX7A1',\n 'CPA3',\n 'RASL12',\n 'CLIP2',\n 'LEPREL2',\n 'RHOB',\n 'RCN3',\n 'EFEMP2',\n 'SERPINF1',\n 'FHL2',\n 'SLC16A2',\n 'LYVE1',\n 'TMEM176A',\n 'PLTP',\n 'FHL1',\n 'PAGE4',\n 'PPP1R1A',\n 'PMP22',\n 'SLC22A17',\n 'ZFPM2',\n 'ICAM2',\n 'ISYNA1',\n 'IGKV1-17',\n 'EPHB6',\n 'PPP1R15A',\n 'LMCD1',\n 'NDN',\n 'PALM',\n 'ARHGEF4',\n 'PDE1A',\n 'SULF1',\n 'DCHS1',\n 'MICAL2',\n 'MAGEL2',\n 'BNC2',\n 'RRAS',\n 'FCN1',\n 'ITPKB',\n 'LOXL1',\n 'RNASE1',\n 'NCAM1',\n 'MAP1A',\n 'MT1E',\n 'OLFML3',\n 'HSPB2',\n 'UCHL1',\n 'INHBA',\n 'MARCH3',\n 'IL11RA',\n 'CASQ2',\n 'PYGM',\n 'MMP2',\n 'FLNC',\n 'GYPC',\n 'ENO2',\n 'COL5A1',\n 'MYO18A',\n 'GEM',\n 'TRIL',\n 'HLX',\n 'WNT4',\n 'PLAT',\n 'NR2F1',\n 'NT5DC2',\n 'CALHM2',\n 'LY6E',\n 'C1QA',\n 'WFDC1',\n 'SMARCD3',\n 'C1R',\n 'GAS6',\n 'SPSB1',\n 'IGK',\n 'PKNOX2',\n 'IGKV1OR2-108',\n 'ITGA5',\n 'GADD45B',\n 'EGR3',\n 'TNFRSF1B',\n 'MFAP2',\n 'RERGL',\n 'RIMS3',\n 'CSDC2',\n 'SEPT4',\n 'ATF3',\n 'MT1X',\n 'LINC00341',\n 'COLEC12',\n 'CDC42EP1',\n 'C10orf10',\n 'ANG',\n 'JAM3',\n 'THBD',\n 'ALDOC',\n 'HCFC1R1',\n 'COL4A6',\n 'VWA1',\n 'KIAA1644',\n 'KDR',\n 'HPCAL1',\n 'STAB2',\n 'LRP1',\n 'SPHK1',\n 'COLGALT2',\n 'IGKV1-37',\n 'IGF2',\n 'PPP1R12B',\n 'MT1H',\n 'FCGR2B',\n 'LAMB2',\n 'CORO2B',\n 'SLC4A3',\n 'KIAA1462',\n 'CLEC1A',\n 'HBEGF',\n 'LAG3',\n 'GFRA2',\n 'PROCR',\n 'ADAMTS2',\n 'CFH',\n 'DUSP5',\n 'FBXO17',\n 'TPM2',\n 'DCN',\n 'ITIH5',\n 'MT1G',\n 'TCF7L1',\n 'MT1HL1',\n 'ATP1A2',\n 'VCAM1',\n 'VASH1',\n 'NGF',\n 'PCSK1N',\n 'FAM129A',\n 'CAMK1',\n 'DNAJB5',\n 'MX1',\n 'GIMAP1-GIMAP5',\n 'CDA',\n 'TMEM176B',\n 'CHST7',\n 'TEAD3',\n 'ALOX5AP',\n 'MXRA8',\n 'TNS1',\n 'AGT',\n 'LOC645166',\n 'LOC101928916',\n 'TRPV2',\n 'SELL',\n 'RASIP1',\n 'PLXDC1',\n 'ABHD14A',\n 'NAALADL1',\n 'TSPAN4',\n 'PRAF2',\n 'DNM1',\n 'SRM',\n 'DIRAS3',\n 'GFPT2',\n 'ITGA8',\n 'PCDHGA1',\n 'BMP6',\n 'CPQ',\n 'MYOC',\n 'IL4R',\n 'TMEM109',\n 'CDH5',\n 'EFEMP1',\n 'SLIT2',\n 'LHX6',\n 'PXDC1',\n 'CLEC3B',\n 'CAND2',\n 'FAIM2',\n 'MT2A',\n 'NRIP2',\n 'RCAN2',\n 'ANK2',\n 'NDUFA4L2',\n 'HEPH',\n 'COL16A1',\n 'ARHGAP6',\n 'GLT8D2',\n 'EHD2',\n 'ADAMTS3',\n 'SLC15A3',\n 'ILK',\n 'IGLC1',\n 'PEPD',\n 'NAV3',\n 'EMP3',\n 'RNASE6',\n 'ANGPTL2',\n 'FAM110B',\n 'GSTT1',\n 'HLA-DPA1',\n 'ITIH3',\n 'PYGB',\n 'TLN1',\n 'CYAT1',\n 'HES1',\n 'NRXN2',\n 'COL4A2',\n 'HLA-DPB1',\n 'APOL3',\n 'LEFTY1',\n 'CBX7',\n 'ZBTB16',\n 'C1QTNF1',\n 'CSPG4',\n 'FHOD3',\n 'C1orf216',\n 'NUCB1',\n 'KCNH2',\n 'CH25H',\n 'EVA1B',\n 'RAMP2',\n 'EFHD1',\n 'HLA-DRB1',\n 'SV2A',\n 'PCOLCE',\n 'RBP4',\n 'FILIP1L',\n 'EHD3',\n 'ABCA8',\n 'TMEM158',\n 'ELMO1',\n 'AKR1B1',\n 'FZD4',\n 'LRRC15',\n 'CNN2',\n 'ASTN1',\n 'IER3',\n 'LGALS9',\n 'LOC100996693',\n 'HYAL1',\n 'ARHGAP22',\n 'KCNJ8',\n 'GSTM1',\n 'VPS72',\n 'TCEA2',\n 'ZYX',\n 'B3GNT1',\n 'HLA-DRA',\n 'CTSF',\n 'PRSS23',\n 'MMP11',\n 'FRAT1',\n 'PPP1R16B',\n 'CACNA2D2',\n 'BEND5',\n 'MCAM',\n 'IGKC',\n 'HIGD1B',\n 'GSTM2',\n 'PDLIM2',\n 'HOXA7',\n 'WISP1',\n 'TNFSF12',\n 'KANK3',\n 'MAN2B1',\n 'CDK4',\n 'OGN',\n 'MEIS2',\n 'DUSP2',\n 'C2',\n 'ETNK2',\n 'ACACB',\n 'FAM89B',\n 'SLIT3',\n 'SALL2',\n 'TENC1',\n 'TUBB6',\n 'CX3CL1',\n 'PLD3',\n 'ATP6V1F',\n 'DUSP1',\n 'NCF4',\n 'VEGFB',\n 'RABAC1',\n 'PTGFR',\n 'IER2',\n 'LTBP4',\n 'GHR',\n 'PID1',\n 'SYT1',\n 'FCGRT',\n 'FPR1',\n 'FHL3',\n 'PCDH12',\n 'PBX3',\n 'NUAK1',\n 'DBN1',\n 'TPM1',\n 'MARCH2',\n 'OR2A20P',\n 'ROBO3',\n 'TEK',\n 'SYNDIG1',\n 'LY96',\n 'VSNL1',\n 'EDNRB',\n 'CD93',\n 'CDH13',\n 'ST6GALNAC4',\n 'CD97',\n 'FLT3LG',\n 'CTSK',\n 'AXL',\n 'CFP',\n 'CPEB1',\n 'ASIC2',\n 'PKIG',\n 'SERPINE1',\n 'BAI2',\n 'NYNRIN',\n 'CRABP2',\n 'SLC25A23',\n 'ZNF423',\n 'ACOX2',\n 'VSTM4',\n 'CASKIN2',\n 'CLEC11A',\n 'PNMA2',\n 'C1S',\n 'VSIG4',\n 'LST1',\n 'PGBD5',\n 'GADD45G',\n 'ENTPD1',\n 'DPEP2',\n 'PINLYP',\n 'HSD11B1',\n 'CSF1R',\n 'HLA-DQB1',\n 'NACAD',\n 'VAMP5',\n 'GAB2',\n 'STARD8',\n 'VAT1',\n 'PLEKHA4',\n 'NOTCH4',\n 'ECSIT',\n 'FST',\n 'PHGDH',\n 'PECAM1',\n 'HDAC5',\n 'AIP',\n 'EPHX1',\n 'C12orf10',\n 'EGFL7',\n 'PLEKHO1',\n 'AJAP1',\n 'LGALS2',\n 'BST2',\n 'TUBB2B',\n 'SLC47A1',\n 'FOLR2',\n 'TMEM140',\n 'FAM117A',\n 'MIR6883',\n 'LGALS3BP',\n 'ARL2',\n 'ROR2',\n 'NRSN2',\n 'FAM127A',\n 'MRC2',\n 'ACD',\n 'IFI6',\n 'MAGED4',\n 'CCL3',\n 'CD74',\n 'NOS3',\n 'LHFP',\n 'ST5',\n 'RHOC',\n 'ITM2C',\n 'TUBG2',\n 'LAMA4',\n 'VPS51',\n 'VIPR2',\n 'HCLS1',\n 'C1QB',\n 'CIDEB',\n 'DDAH2',\n 'GDPD5',\n 'BMP4',\n 'MMP7',\n 'ANGPTL4',\n 'LRRN2',\n 'DACT1',\n 'ASMTL',\n 'BFSP1',\n 'FMO2',\n 'DPF2',\n 'PINK1',\n 'CRTC3',\n 'SERPINH1',\n 'CNTNAP1',\n 'SNTA1',\n 'CD1D',\n 'IFITM2',\n 'RBP1',\n 'NCF2',\n 'ABLIM3',\n 'SLC43A3',\n 'EXOC3',\n 'AP2M1',\n 'HGF',\n 'CLEC10A',\n 'GNA14',\n 'MYOM1',\n 'PBXIP1',\n 'F10',\n 'EMCN',\n 'SEPW1',\n 'RAB11FIP5',\n 'AGPAT1',\n 'MOCS1',\n 'RELN',\n 'TYRO3',\n 'C11orf68',\n 'SOD3',\n 'VAMP2',\n 'CD37',\n 'COL15A1',\n 'ECEL1',\n 'LARP6',\n 'HYAL2',\n 'GIMAP6',\n 'IGLV1-44',\n 'A2M',\n 'ABL1',\n 'HLA-DQA1',\n 'ATP1B2',\n 'OLFML2B',\n 'AMPH',\n 'GPER1',\n 'CRISPLD2',\n 'GAL3ST4',\n 'CAV1',\n 'SLC43A1',\n 'RAMP1',\n 'DMPK',\n 'ATP2A3',\n 'RFTN1',\n 'ACTN1',\n 'SELENBP1',\n 'SERTAD3',\n 'HP',\n 'FJX1',\n 'CENPB',\n 'MIR4746',\n 'PLSCR3',\n 'KCNA5',\n 'TLE2',\n 'NRGN',\n 'RBPMS',\n 'THBS4',\n 'HS1BP3',\n 'MX2',\n 'ARHGEF40',\n 'LYL1',\n 'FBLN1',\n 'QSOX1',\n 'APBB1',\n 'EPHB2',\n 'IMP4',\n 'SCARA3',\n 'SMYD5',\n 'UPK3B',\n 'TYROBP',\n 'NXPH3',\n 'SYN2',\n 'DCTN1',\n 'LSP1',\n 'SMG6',\n 'DBNDD2',\n 'NINJ1',\n 'FBXL7',\n 'HS3ST3A1',\n 'CEBPD',\n 'CHST12',\n 'FAM102A',\n 'CYTL1',\n 'PLEKHF1',\n 'COL6A3',\n 'EPAS1',\n 'PLIN1',\n 'TACR2',\n 'CLTB',\n 'TSSC4',\n 'STXBP1',\n 'PLAU',\n 'SIX2',\n 'GSTM4',\n 'RGS16',\n 'MPV17',\n 'MAOB',\n 'GUCY1A2',\n 'CLSTN2',\n 'RNH1',\n 'FNDC4',\n 'PYCARD',\n 'HSPA12A',\n 'C16orf45',\n 'S1PR1',\n 'TSC22D3',\n 'RHOG',\n 'HYI',\n 'CDKN1A',\n 'H1FX',\n 'KCNMA1',\n 'MED24',\n 'HSD17B14',\n 'PIK3C2B',\n 'ADAMTSL2',\n 'IL6',\n 'ZDHHC14',\n 'EFCC1',\n 'SLC27A3',\n 'HECTD3',\n 'PDLIM7',\n 'APLP1',\n 'CDKN1C',\n 'PTGDS',\n 'MAP7D1',\n 'MAD1L1',\n 'PDPN',\n 'CACNA1H',\n 'RASSF2',\n 'CRIP2',\n 'OS9',\n 'STARD5',\n 'CCR10',\n 'LYPD1',\n 'BCL7C',\n 'PENK',\n 'SH3TC1',\n 'CCDC69',\n 'TADA3',\n 'WASF2',\n 'ASS1',\n 'DHRS3',\n 'FRY',\n 'SDC3',\n 'MYH9',\n 'SIK1',\n 'PEF1',\n 'GPS1',\n 'ADRA2A',\n 'INHBB',\n 'STAB1',\n 'ITGA3',\n 'RNASE4',\n 'CTIF',\n 'MT1F',\n 'EHBP1L1',\n 'LDOC1',\n 'ARSE',\n 'COL13A1',\n 'REM1',\n 'GNG7',\n 'MGAT1',\n 'IL16',\n 'TMEM115',\n 'FAM63A',\n 'KLHL26',\n 'SCN1B',\n 'CREB3',\n 'SUGCT',\n 'VKORC1',\n 'CPNE1',\n 'SNX17',\n 'MFNG',\n 'MSN',\n 'LTBP1',\n 'BIN1',\n 'CXCL14',\n 'YIPF3',\n 'TCN2',\n 'CRMP1',\n 'NPR2',\n 'CNIH3',\n 'TNFRSF1A',\n 'PIEZO1',\n 'CRLF1',\n 'WBP1L',\n 'FZD2',\n 'MIR6872',\n 'CD1C',\n 'NUPR1',\n 'PIEZO2',\n 'MAPK12',\n 'ISG15',\n 'CTGF',\n 'LMAN2L',\n 'FES',\n 'CPVL',\n 'COL1A2',\n 'PRPH',\n 'FBLN2',\n 'FIS1',\n 'P2RY13',\n 'PLA1A',\n 'APOA1',\n 'BAP1',\n 'FCER1A',\n 'MAP3K11',\n 'MICU1',\n 'WFS1',\n 'MYO1D',\n 'GRINA',\n 'GPR153',\n 'EIF3G',\n 'PARVB',\n 'CCDC92',\n 'PFKM',\n 'ZCCHC24',\n 'PORCN',\n 'NPC2',\n 'MPP1',\n 'CBFA2T3',\n 'NEFM',\n 'FOSL2',\n 'SCARB1',\n 'SNCG',\n 'HCK',\n 'IFI35',\n 'NLRP1',\n 'DNASE1L3',\n 'NINJ2',\n 'ERCC1',\n 'GSN',\n 'ANXA8',\n 'GAMT',\n 'CIZ1',\n 'BANF1',\n 'CDC42EP2',\n 'PLEKHO2',\n 'KIF17',\n 'ATG101',\n 'BEGAIN',\n 'TXLNA',\n 'MGMT',\n 'GRK5',\n 'MSC',\n 'SPARC',\n 'PAFAH1B3',\n 'MICAL3',\n 'IGLL3P',\n 'LY86',\n 'JADE2',\n 'IQSEC3',\n 'MAPK7',\n 'RHBDF1',\n 'CADM3',\n 'DENND2A',\n 'IGHG1',\n 'MRPL11',\n 'NR1H2',\n 'DAAM2',\n 'AMPD2',\n 'C9orf16',\n 'TSKU',\n 'PHC2',\n 'MAMLD1',\n 'IFITM1',\n 'GLI2',\n 'ANXA9',\n 'CYTH2',\n 'P2RX5',\n 'DHPS',\n 'BGLAP',\n 'HHLA3',\n 'SLITRK5',\n 'DYSF',\n 'AKT1',\n 'CD79B',\n 'JUND',\n 'MS4A6A',\n 'TGFB1',\n 'SPOCK2',\n 'HLA-DMA',\n 'NPTXR',\n 'GPS2',\n 'SARS',\n 'C1orf115',\n 'TSPYL5',\n 'XPNPEP2',\n 'IMP3',\n 'ZC4H2',\n 'RP4-781L3.1',\n 'IFFO1',\n 'TMEM39B',\n 'PDGFRB',\n 'LAMP5',\n 'CD320',\n 'PPP1R3C',\n 'MAP3K6',\n 'PIGT',\n 'ICAM1',\n 'CDIP1',\n 'KLHDC8A',\n 'SPTAN1',\n 'GPR116',\n 'FKRP',\n 'CCL4',\n 'C11orf95',\n 'MYL6B',\n 'DGCR6',\n 'WNT5B',\n 'GNLY',\n 'CACNB3',\n 'CLSTN1',\n 'C11orf24',\n 'TH',\n 'PDLIM4',\n 'LRP3',\n 'BTBD2',\n 'ENG',\n 'ZNF580',\n 'TNNC2',\n 'EPHX2',\n 'HEBP1',\n 'TRIM21',\n 'FAM110D',\n 'IL10RA',\n 'CCND3',\n 'ZNF219',\n 'PPP2R4',\n 'SCAND1',\n 'FAM65A',\n 'TRBC1',\n 'TLE3',\n 'GNG4',\n 'CCDC101',\n 'RHOF',\n 'MACROD1',\n 'ARAF',\n 'CIDEA',\n 'PKN1',\n 'TBC1D17',\n 'NSFL1C',\n 'USP11',\n 'CST6',\n 'SORBS3',\n 'NCF1',\n 'LY6G5C',\n 'EXT2',\n 'HAS1',\n 'DEXI',\n 'CERS2',\n 'RAB32',\n 'PPM1F',\n 'NMB',\n 'PLA2G15',\n 'S100A4',\n 'ELN',\n 'ALAS2',\n 'DAK',\n 'ATP6AP1',\n 'GPI',\n 'LMNA',\n 'MPL',\n 'UBAC1',\n 'ARFGAP2',\n 'LOC100130872',\n 'DGKA',\n 'CRYL1',\n 'CBR3',\n 'CERS1',\n 'WBSCR16',\n 'SIGLEC1',\n 'RBM42',\n 'BSG',\n 'GCK',\n 'BLVRB',\n 'BAD',\n 'NOTCH3',\n 'SYNGR1',\n 'ABCG2',\n 'PCGF2',\n 'RUSC2',\n 'CUEDC2',\n 'CEBPB',\n 'NAGLU',\n 'SERGEF',\n 'TBXA2R',\n 'EPHA2',\n 'GYG1',\n 'CYBRD1',\n 'TMEM47',\n 'POMC',\n 'SLC35G2',\n 'EPB41L1',\n 'ITGAM',\n 'LGALS1',\n 'PMEPA1',\n 'COL1A1',\n 'SLC3A2',\n 'CBX6',\n 'SRF',\n 'FLT1',\n 'ARHGDIB',\n 'MAGED2',\n 'PLEC',\n 'FAH',\n 'MPST',\n 'KIF3C',\n 'PON3',\n 'NQO2',\n 'CEBPA',\n 'FAM127B',\n 'SF3A2',\n 'GAS7',\n 'C3orf18',\n 'CD14',\n 'LARGE',\n 'DDX23',\n ...]"
     },
     "execution_count": 5,
     "metadata": {},
     "output_type": "execute_result"
    }
   ],
   "source": [
    "gsea.get_gene_rank_order()"
   ]
  },
  {
   "cell_type": "code",
   "execution_count": 6,
   "metadata": {
    "pycharm": {
     "name": "#%%\n"
    }
   },
   "outputs": [],
   "source": [
    "pos_index = list(gsea.sampfile[gsea.sampfile[1] == 1].index)\n",
    "neg_index = list(gsea.sampfile[gsea.sampfile[1] == 0].index)"
   ]
  },
  {
   "cell_type": "code",
   "execution_count": 7,
   "metadata": {
    "pycharm": {
     "name": "#%%\n"
    }
   },
   "outputs": [],
   "source": [
    "pos_mean = np.mean(gsea.expfile.iloc[:, pos_index], axis=1)\n",
    "neg_mean = np.mean(gsea.expfile.iloc[:, neg_index], axis=1)"
   ]
  },
  {
   "cell_type": "code",
   "execution_count": 8,
   "metadata": {
    "pycharm": {
     "name": "#%%\n"
    }
   },
   "outputs": [
    {
     "data": {
      "text/plain": "[6, 7, 8, 9, 10, 11, 12]"
     },
     "execution_count": 8,
     "metadata": {},
     "output_type": "execute_result"
    }
   ],
   "source": [
    "pos_index"
   ]
  },
  {
   "cell_type": "code",
   "execution_count": 9,
   "metadata": {
    "pycharm": {
     "name": "#%%\n"
    }
   },
   "outputs": [
    {
     "data": {
      "text/plain": "[0, 1, 2, 3, 4, 5]"
     },
     "execution_count": 9,
     "metadata": {},
     "output_type": "execute_result"
    }
   ],
   "source": [
    "neg_index\n"
   ]
  },
  {
   "cell_type": "code",
   "execution_count": 10,
   "metadata": {
    "pycharm": {
     "name": "#%%\n"
    }
   },
   "outputs": [
    {
     "data": {
      "text/plain": "-1.220663382380951"
     },
     "execution_count": 10,
     "metadata": {},
     "output_type": "execute_result"
    }
   ],
   "source": [
    "(pos_mean - neg_mean).loc['BMP4']"
   ]
  },
  {
   "cell_type": "code",
   "execution_count": 2,
   "metadata": {},
   "outputs": [],
   "source": [
    "from knn import *"
   ]
  },
  {
   "cell_type": "code",
   "execution_count": 3,
   "metadata": {},
   "outputs": [],
   "source": [
    "knn = KNN('GSE25628_filtered_expression.txt', 'GSE25628_samples.txt')\n",
    "fn_lst = [0.05, 0.1, 0.25, 0.5, 0.75, 0.9, 1]\n",
    "metric_lst = []\n",
    "for fn in fn_lst:\n",
    "    metric_lst.append(knn.calc_metrics(k=3, fn=fn))"
   ]
  },
  {
   "cell_type": "code",
   "execution_count": 4,
   "metadata": {},
   "outputs": [
    {
     "data": {
      "text/plain": "[[0.86, 0.17],\n [0.86, 0.17],\n [0.86, 0.17],\n [0.86, 1.0],\n [0.71, 1.0],\n [0.71, 1.0],\n [0.0, 1.0]]"
     },
     "execution_count": 4,
     "metadata": {},
     "output_type": "execute_result"
    }
   ],
   "source": [
    "metric_lst"
   ]
  },
  {
   "cell_type": "code",
   "execution_count": 5,
   "metadata": {},
   "outputs": [
    {
     "data": {
      "text/plain": "[[0.86, 0.83],\n [0.86, 0.83],\n [0.86, 0.83],\n [0.86, 0.0],\n [0.71, 0.0],\n [0.71, 0.0],\n [0.0, 0.0]]"
     },
     "execution_count": 5,
     "metadata": {},
     "output_type": "execute_result"
    }
   ],
   "source": [
    "curve_stat = [[i[0], 1-i[1]] for i in metric_lst]\n",
    "curve_stat"
   ]
  },
  {
   "cell_type": "code",
   "execution_count": 13,
   "metadata": {},
   "outputs": [],
   "source": [
    "import matplotlib.pyplot as plt"
   ]
  },
  {
   "cell_type": "code",
   "execution_count": 7,
   "metadata": {},
   "outputs": [
    {
     "name": "stdout",
     "output_type": "stream",
     "text": [
      "Requirement already satisfied: seaborn in g:\\applications\\anaconda\\envs\\biomedin214\\lib\\site-packages (0.11.0)\n",
      "Requirement already satisfied: pandas>=0.23 in g:\\applications\\anaconda\\envs\\biomedin214\\lib\\site-packages (from seaborn) (1.1.3)\n",
      "Requirement already satisfied: scipy>=1.0 in g:\\applications\\anaconda\\envs\\biomedin214\\lib\\site-packages (from seaborn) (1.5.2)\n",
      "Requirement already satisfied: numpy>=1.15 in g:\\applications\\anaconda\\envs\\biomedin214\\lib\\site-packages (from seaborn) (1.19.1)\n",
      "Requirement already satisfied: matplotlib>=2.2 in g:\\applications\\anaconda\\envs\\biomedin214\\lib\\site-packages (from seaborn) (3.3.2)\n",
      "Requirement already satisfied: python-dateutil>=2.7.3 in g:\\applications\\anaconda\\envs\\biomedin214\\lib\\site-packages (from pandas>=0.23->seaborn) (2.8.1)\n",
      "Requirement already satisfied: pytz>=2017.2 in g:\\applications\\anaconda\\envs\\biomedin214\\lib\\site-packages (from pandas>=0.23->seaborn) (2020.1)\n",
      "Requirement already satisfied: pyparsing!=2.0.4,!=2.1.2,!=2.1.6,>=2.0.3 in g:\\applications\\anaconda\\envs\\biomedin214\\lib\\site-packages (from matplotlib>=2.2->seaborn) (2.4.7)\n",
      "Requirement already satisfied: cycler>=0.10 in g:\\applications\\anaconda\\envs\\biomedin214\\lib\\site-packages (from matplotlib>=2.2->seaborn) (0.10.0)\n",
      "Requirement already satisfied: pillow>=6.2.0 in g:\\applications\\anaconda\\envs\\biomedin214\\lib\\site-packages (from matplotlib>=2.2->seaborn) (7.2.0)\n",
      "Requirement already satisfied: kiwisolver>=1.0.1 in g:\\applications\\anaconda\\envs\\biomedin214\\lib\\site-packages (from matplotlib>=2.2->seaborn) (1.2.0)\n",
      "Requirement already satisfied: certifi>=2020.06.20 in c:\\users\\liter\\appdata\\roaming\\python\\python38\\site-packages (from matplotlib>=2.2->seaborn) (2020.6.20)\n",
      "Requirement already satisfied: six>=1.5 in g:\\applications\\anaconda\\envs\\biomedin214\\lib\\site-packages (from python-dateutil>=2.7.3->pandas>=0.23->seaborn) (1.15.0)\n"
     ]
    }
   ],
   "source": [
    "!pip install seaborn"
   ]
  },
  {
   "cell_type": "code",
   "execution_count": 14,
   "metadata": {},
   "outputs": [
    {
     "data": {
      "text/plain": "      x     y\n0  0.86  0.83\n1  0.86  0.83\n2  0.86  0.83\n3  0.86  0.00\n4  0.71  0.00\n5  0.71  0.00\n6  0.00  0.00",
      "text/html": "<div>\n<style scoped>\n    .dataframe tbody tr th:only-of-type {\n        vertical-align: middle;\n    }\n\n    .dataframe tbody tr th {\n        vertical-align: top;\n    }\n\n    .dataframe thead th {\n        text-align: right;\n    }\n</style>\n<table border=\"1\" class=\"dataframe\">\n  <thead>\n    <tr style=\"text-align: right;\">\n      <th></th>\n      <th>x</th>\n      <th>y</th>\n    </tr>\n  </thead>\n  <tbody>\n    <tr>\n      <th>0</th>\n      <td>0.86</td>\n      <td>0.83</td>\n    </tr>\n    <tr>\n      <th>1</th>\n      <td>0.86</td>\n      <td>0.83</td>\n    </tr>\n    <tr>\n      <th>2</th>\n      <td>0.86</td>\n      <td>0.83</td>\n    </tr>\n    <tr>\n      <th>3</th>\n      <td>0.86</td>\n      <td>0.00</td>\n    </tr>\n    <tr>\n      <th>4</th>\n      <td>0.71</td>\n      <td>0.00</td>\n    </tr>\n    <tr>\n      <th>5</th>\n      <td>0.71</td>\n      <td>0.00</td>\n    </tr>\n    <tr>\n      <th>6</th>\n      <td>0.00</td>\n      <td>0.00</td>\n    </tr>\n  </tbody>\n</table>\n</div>"
     },
     "execution_count": 14,
     "metadata": {},
     "output_type": "execute_result"
    }
   ],
   "source": [
    "import pandas as pd\n",
    "curve_df = pd.DataFrame(curve_stat)\n",
    "curve_df.columns = ['x', 'y']\n",
    "curve_df"
   ]
  },
  {
   "cell_type": "code",
   "execution_count": 18,
   "metadata": {},
   "outputs": [
    {
     "data": {
      "text/plain": "[<matplotlib.lines.Line2D at 0x23f0cfde0a0>]"
     },
     "execution_count": 18,
     "metadata": {},
     "output_type": "execute_result"
    },
    {
     "data": {
      "text/plain": "<Figure size 432x288 with 1 Axes>",
      "image/png": "[encoded data removed]"
     },
     "metadata": {
      "needs_background": "light"
     },
     "output_type": "display_data"
    }
   ],
   "source": [
    "plt.plot(curve_df['y'].values, curve_df['x'].values)"
   ]
  },
  {
   "cell_type": "code",
   "execution_count": 20,
   "metadata": {},
   "outputs": [
    {
     "name": "stdout",
     "output_type": "stream",
     "text": [
      "[0, 0, 1, 0, 0, 0, 0, 1, 1, 1, 1, 1, 1]\n",
      "[0, 0, 0, 0, 0, 0, 0, 1, 1, 1, 1, 0, 1]\n",
      "[0, 0, 0, 0, 0, 0, 0, 1, 1, 1, 1, 1, 1]\n",
      "[0, 0, 0, 0, 0, 0, 0, 1, 1, 1, 1, 1, 1]\n",
      "[0, 0, 0, 0, 0, 0, 0, 1, 1, 1, 1, 1, 1]\n",
      "[0, 0, 0, 0, 0, 0, 0, 1, 1, 1, 1, 1, 1]\n"
     ]
    }
   ],
   "source": [
    "k_lst = [1,2,3,4,5,6]\n",
    "fn = 0.5\n",
    "for k in k_lst:\n",
    "    print(knn.get_assignments(k=k, fn=fn))"
   ]
  },
  {
   "cell_type": "code",
   "execution_count": 4,
   "outputs": [],
   "source": [
    "geneset_names = [i[0] for i in gsea.genesets]\n",
    "scores = []\n",
    "for gs in geneset_names:\n",
    "    scores.append(gsea.get_enrichment_score(gs))"
   ],
   "metadata": {
    "collapsed": false,
    "pycharm": {
     "name": "#%%\n"
    }
   }
  },
  {
   "cell_type": "code",
   "execution_count": 30,
   "outputs": [
    {
     "data": {
      "text/plain": "87"
     },
     "execution_count": 30,
     "metadata": {},
     "output_type": "execute_result"
    }
   ],
   "source": [
    "np.argmax(scores)"
   ],
   "metadata": {
    "collapsed": false,
    "pycharm": {
     "name": "#%%\n"
    }
   }
  },
  {
   "cell_type": "code",
   "execution_count": 31,
   "outputs": [
    {
     "data": {
      "text/plain": "'KEGG_NEUROACTIVE_LIGAND_RECEPTOR_INTERACTION'"
     },
     "execution_count": 31,
     "metadata": {},
     "output_type": "execute_result"
    }
   ],
   "source": [
    "geneset_names[87]\n"
   ],
   "metadata": {
    "collapsed": false,
    "pycharm": {
     "name": "#%%\n"
    }
   }
  },
  {
   "cell_type": "code",
   "execution_count": 5,
   "outputs": [
    {
     "data": {
      "text/plain": "['ACSS2',\n 'GCK',\n 'PGK2',\n 'PGK1',\n 'PDHB',\n 'PDHA1',\n 'PDHA2',\n 'PGM2',\n 'TPI1',\n 'ACSS1',\n 'FBP1',\n 'ADH1B',\n 'HK2',\n 'ADH1C',\n 'HK1',\n 'HK3',\n 'ADH4',\n 'PGAM2',\n 'ADH5',\n 'PGAM1',\n 'ADH1A',\n 'ALDOC',\n 'ALDH7A1',\n 'LDHAL6B',\n 'PKLR',\n 'LDHAL6A',\n 'ENO1',\n 'PKM2',\n 'PFKP',\n 'BPGM',\n 'PCK2',\n 'PCK1',\n 'ALDH1B1',\n 'ALDH2',\n 'ALDH3A1',\n 'AKR1A1',\n 'FBP2',\n 'PFKM',\n 'PFKL',\n 'LDHC',\n 'GAPDH',\n 'ENO3',\n 'ENO2',\n 'PGAM4',\n 'ADH7',\n 'ADH6',\n 'LDHB',\n 'ALDH1A3',\n 'ALDH3B1',\n 'ALDH3B2',\n 'ALDH9A1',\n 'ALDH3A2',\n 'GALM',\n 'ALDOA',\n 'DLD',\n 'DLAT',\n 'ALDOB',\n 'G6PC2',\n 'LDHA',\n 'G6PC',\n 'PGM1',\n 'GPI',\n 'IDH3B',\n 'DLST',\n 'PCK2',\n 'CS',\n 'PDHB',\n 'PCK1',\n 'PDHA1',\n 'LOC642502',\n 'PDHA2',\n 'LOC283398',\n 'FH',\n 'SDHD',\n 'OGDH',\n 'SDHB',\n 'IDH3A',\n 'SDHC',\n 'IDH2',\n 'IDH1',\n 'ACO1',\n 'ACLY',\n 'MDH2',\n 'DLD',\n 'MDH1',\n 'DLAT',\n 'OGDHL',\n 'PC',\n 'SDHA',\n 'SUCLG1',\n 'SUCLA2',\n 'SUCLG2',\n 'IDH3G',\n 'ACO2',\n 'RPE',\n 'RPIA',\n 'PGM2',\n 'PGLS',\n 'PRPS2',\n 'FBP2',\n 'PFKM',\n 'PFKL',\n 'TALDO1',\n 'TKT',\n 'FBP1',\n 'TKTL2',\n 'PGD',\n 'RBKS',\n 'ALDOA',\n 'ALDOC',\n 'ALDOB',\n 'H6PD',\n 'LOC729020',\n 'PRPS1L1',\n 'PRPS1',\n 'DERA',\n 'G6PD',\n 'PGM1',\n 'TKTL1',\n 'PFKP',\n 'GPI',\n 'UGT1A10',\n 'UGT1A8',\n 'RPE',\n 'UGT1A7',\n 'UGT1A6',\n 'UGT2B28',\n 'UGT1A5',\n 'CRYL1',\n 'UGDH',\n 'UGT2A1',\n 'GUSB',\n 'UGT1A9',\n 'DCXR',\n 'LOC729020',\n 'DHDH',\n 'UGT2B11',\n 'UGP2',\n 'XYLB',\n 'UGT2B10',\n 'AKR1B1',\n 'UGT2B7',\n 'UGT2B4',\n 'UGT2A3',\n 'UGT1A4',\n 'UGT2B17',\n 'UGT1A1',\n 'UGT1A3',\n 'UGT2B15',\n 'MPI',\n 'PMM2',\n 'PMM1',\n 'FBP2',\n 'PFKM',\n 'GMDS',\n 'PFKFB4',\n 'PFKL',\n 'MTMR6',\n 'TPI1',\n 'PHPT1',\n 'PFKFB3',\n 'FUK',\n 'PFKFB2',\n 'MTMR1',\n 'PFKFB1',\n 'AKR1B10',\n 'FPGT',\n 'KHK',\n 'FBP1',\n 'MTMR2',\n 'HK2',\n 'HK3',\n 'HK1',\n 'ALDOA',\n 'ALDOC',\n 'ALDOB',\n 'MTMR7',\n 'TSTA3',\n 'AKR1B1',\n 'SORD',\n 'GMPPA',\n 'PFKP',\n 'GMPPB',\n 'GCK',\n 'GALK1',\n 'GLB1',\n 'GALE',\n 'B4GALT1',\n 'PGM2',\n 'LALBA',\n 'PFKM',\n 'PFKL',\n 'MGAM',\n 'HK2',\n 'HK1',\n 'HK3',\n 'GALT',\n 'G6PC2',\n 'GLA',\n 'GANC',\n 'LCT',\n 'GALK2',\n 'G6PC',\n 'UGP2',\n 'PGM1',\n 'AKR1B1',\n 'B4GALT2',\n 'GAA',\n 'PFKP',\n 'UGT1A10',\n 'UGT1A8',\n 'UGT1A7',\n 'UGT1A6',\n 'ALDH1B1',\n 'UGT2B28',\n 'ALDH2',\n 'UGT1A5',\n 'MIOX',\n 'UGDH',\n 'UGT2A1',\n 'ALDH9A1',\n 'ALDH3A2',\n 'UGT1A9',\n 'ALDH7A1',\n 'UGT2B11',\n 'UGT2B10',\n 'UGT2B7',\n 'UGT2B4',\n 'UGT2A3',\n 'UGT1A4',\n 'UGT1A1',\n 'UGT2B17',\n 'UGT1A3',\n 'UGT2B15',\n 'CPT1A',\n 'CPT1C',\n 'ACADS',\n 'ALDH1B1',\n 'ACADSB',\n 'ACADL',\n 'ALDH2',\n 'ACADM',\n 'CYP4A11',\n 'ACAT2',\n 'ACADVL',\n 'ACAT1',\n 'ACAA2',\n 'HADH',\n 'HADHB',\n 'HADHA',\n 'CYP4A22',\n 'ADH7',\n 'ADH6',\n 'ACSL6',\n 'ADH1B',\n 'ADH1C',\n 'ADH4',\n 'ECHS1',\n 'ADH5',\n 'ALDH9A1',\n 'ALDH3A2',\n 'ACSL5',\n 'ADH1A',\n 'EHHADH',\n 'GCDH',\n 'ALDH7A1',\n 'ACOX3',\n 'ACSL1',\n 'ACAA1',\n 'CPT2',\n 'CPT1B',\n 'ACOX1',\n 'ECI2',\n 'ECI1',\n 'ACSL3',\n 'ACSL4',\n 'SOAT1',\n 'LSS',\n 'SQLE',\n 'EBP',\n 'CYP51A1',\n 'DHCR7',\n 'CYP27B1',\n 'DHCR24',\n 'HSD17B7',\n 'MSMO1',\n 'FDFT1',\n 'SC5DL',\n 'LIPA',\n 'CEL',\n 'TM7SF2',\n 'NSDHL',\n 'SOAT2',\n 'CYP46A1',\n 'SLC27A5',\n 'BAAT',\n 'CYP7B1',\n 'AKR1C4',\n 'HSD17B4',\n 'SCP2',\n 'AKR1D1',\n 'ACOX2',\n 'HSD3B7',\n 'CYP27A1',\n 'AMACR',\n 'CYP7A1',\n 'CYP8B1',\n 'CYP39A1',\n 'CH25H',\n 'SRD5A3',\n 'AKR1C4',\n 'CYP3A5',\n 'HSD3B2',\n 'UGT2B28',\n 'HSD3B1',\n 'COMT',\n 'SULT2B1',\n 'CYP3A4',\n 'CYP7A1',\n 'CYP11A1',\n 'AKR1C3',\n 'HSD11B2',\n 'SULT1E1',\n 'HSD11B1',\n 'HSD17B2',\n 'HSD17B3',\n 'CYP21A2',\n 'HSD17B1',\n 'CYP19A1',\n 'CYP17A1',\n 'CYP11B2',\n 'CYP11B1',\n 'HSD17B6',\n 'HSD17B7',\n 'UGT2B11',\n 'UGT2A3',\n 'UGT1A4',\n 'CYP3A7',\n 'UGT1A1',\n 'UGT1A3',\n 'UGT1A10',\n 'UGT1A8',\n 'UGT1A7',\n 'UGT1A6',\n 'UGT1A5',\n 'HSD17B8',\n 'AKR1C2',\n 'AKR1C1',\n 'CYP1A1',\n 'CYP1B1',\n 'STS',\n 'UGT2A1',\n 'SRD5A2',\n 'SRD5A1',\n 'CYP3A43',\n 'CYP7B1',\n 'UGT1A9',\n 'AKR1D1',\n 'HSD17B12',\n 'UGT2B10',\n 'UGT2B7',\n 'UGT2B4',\n 'UGT2B17',\n 'UGT2B15',\n 'ATP6V1G1',\n 'UQCR10',\n 'NDUFA5',\n 'NDUFA4',\n 'COX6CP3',\n 'PPA2',\n 'ATP5J2',\n 'NDUFS7',\n 'CYTB',\n 'ATP6V0A1',\n 'ATP6V1G2',\n 'ATP6V0B',\n 'ATP5O',\n 'COX2',\n 'COX1',\n 'ATP6AP1',\n 'COX8C',\n 'COX3',\n 'COX5B',\n 'COX4I1',\n 'ATP6V0A4',\n 'ATP12A',\n 'ATP6',\n 'ATP8',\n 'ATP5H',\n 'NDUFA2',\n 'NDUFA3',\n 'NDUFA1',\n 'LOC100133737',\n 'ATP5G1P5',\n 'UQCRQ',\n 'ATP6V1H',\n 'ATP5D',\n 'LHPP',\n 'ATP6V0D2',\n 'COX7A2L',\n 'ATP5G3',\n 'ATP6V1C2',\n 'ATP5G2',\n 'ATP5G1',\n 'ATP5F1',\n 'ATP5E',\n 'COX5A',\n 'TCIRG1',\n 'UQCRHL',\n 'ATP4B',\n 'ATP6V1D',\n 'ATP4A',\n 'ATP5A1',\n 'ATP5J',\n 'ATP5I',\n 'SDHA',\n 'ATP6V1A',\n 'ATP6V1E1',\n 'NDUFA4L2',\n 'ATP6V1B2',\n 'ATP6V1B1',\n 'ATP6V1C1',\n 'ATP6V0C',\n 'COX10',\n 'COX8A',\n 'COX7C',\n 'LOC642502',\n 'SDHD',\n 'SDHB',\n 'SDHC',\n 'ATP6V1G3',\n 'COX7B',\n 'COX7A1',\n 'COX7A2',\n 'COX6C',\n 'COX17',\n 'ATP5B',\n 'COX6B1',\n 'ATP5C1',\n 'LOC644310',\n 'ATP6V1F',\n 'COX7B2',\n 'ATP6V0A2',\n 'UQCRB',\n 'ATP6V0D1',\n 'COX6A2',\n 'COX6A1',\n 'UQCRH',\n 'UQCRFS1',\n 'UQCRC2',\n 'UQCRC1',\n 'NDUFB3',\n 'NDUFB1',\n 'NDUFB2',\n 'NDUFA10',\n 'NDUFAB1',\n 'ATP6V0E2',\n 'ND6',\n 'NDUFA9',\n 'ND5',\n 'NDUFA7',\n 'NDUFA8',\n 'UQCR11',\n 'NDUFA6',\n 'NDUFV3',\n 'ATP6V1E2',\n 'ND4',\n 'ND4L',\n 'LOC727947',\n 'ND2',\n 'COX6B2',\n 'PPA1',\n 'ND3',\n 'COX4I2',\n 'ND1',\n 'ATP5L',\n 'ATP6V0E1',\n 'NDUFA11',\n 'NDUFB10',\n 'NDUFS8',\n 'NDUFC1',\n 'NDUFC2',\n 'NDUFS1',\n 'NDUFV2',\n 'NDUFB6',\n 'NDUFS4',\n 'NDUFB7',\n 'NDUFV1',\n 'NDUFB8',\n 'NDUFS6',\n 'NDUFB9',\n 'NDUFS5',\n 'NDUFS2',\n 'NDUFB4',\n 'NDUFS3',\n 'NDUFB5',\n 'CYC1',\n 'COX11',\n 'COX15',\n 'POLR2G',\n 'NT5C2',\n 'POLR2H',\n 'ENPP3',\n 'POLR2E',\n 'POLR2F',\n 'ENPP1',\n 'XDH',\n 'POLR2I',\n 'POLR2J',\n 'POLE3',\n 'ADSS',\n 'PRPS2',\n 'ADSL',\n 'NME6',\n 'POLR1D',\n 'PNPT1',\n 'POLR2K',\n 'PDE11A',\n 'POLD3',\n 'POLR2L',\n 'AK1',\n 'NME1-NME2',\n 'AK2',\n 'AK4',\n 'POLA2',\n 'CANT1',\n 'AMPD1',\n 'AMPD3',\n 'AMPD2',\n 'NME4',\n 'GUCY2D',\n 'NME1',\n 'ATIC',\n 'NME2',\n 'DGUOK',\n 'POLR3C',\n 'NME3',\n 'POLR3G',\n 'POLR3F',\n 'PRUNE',\n 'C17orf48',\n 'PDE4B',\n 'PDE4C',\n 'PDE3B',\n 'PDE4A',\n 'NUDT2',\n 'GMPR2',\n 'PDE6C',\n 'PDE6D',\n 'PDE4D',\n 'PDE6A',\n 'PRIM1',\n 'PRIM2',\n 'AK5',\n 'GMPR',\n 'NME5',\n 'PDE7B',\n 'PDE5A',\n 'POLD4',\n 'GUCY1A2',\n 'FHIT',\n 'ADCY3',\n 'ADCY2',\n 'ADCY1',\n 'POLA1',\n 'PDE3A',\n 'PDE2A',\n 'PDE1C',\n 'ADSSL1',\n 'ADA',\n 'ENTPD8',\n 'POLE2',\n 'PDE8A',\n 'PDE9A',\n 'PDE1B',\n 'NUDT9',\n 'POLD1',\n 'GDA',\n 'POLD2',\n 'POLE',\n 'PDE6B',\n 'PDE7A',\n 'PRPS1',\n 'POLR1E',\n 'PAICS',\n 'NT5C1A',\n 'POLR2B',\n 'POLR3A',\n 'PDE6H',\n 'POLR2A',\n 'PDE6G',\n 'POLR2D',\n 'DCK',\n 'POLR2C',\n 'ADCY8',\n 'ADCY9',\n 'ADCY6',\n 'AK7',\n 'ADCY7',\n 'ADCY5',\n 'GMPS',\n 'ADCY10',\n 'POLR3K',\n 'POLR1B',\n 'PNP',\n 'RRM2B',\n 'PDE1A',\n 'POLR2J2',\n 'HPRT1',\n 'GART',\n 'PAPSS1',\n 'PAPSS2',\n 'NT5M',\n 'ADCY4',\n 'IMPDH1',\n 'IMPDH2',\n 'POLR3H',\n 'POLR2J3',\n 'POLR1A',\n 'POLR3B',\n 'GUCY1B3',\n 'PKLR',\n 'GUCY2C',\n 'ENTPD4',\n 'PKM2',\n 'GUCY1A3',\n 'GUK1',\n 'GUCY2F',\n 'ADK',\n 'ITPA',\n 'POLR1C',\n 'PRHOXNB',\n 'POLE4',\n 'RRM1',\n 'POLR3D',\n 'RRM2',\n 'NT5C3',\n 'PDE8B',\n 'POLR3GL',\n 'NT5E',\n 'NPR2',\n 'NPR1',\n 'PDE10A',\n 'ENTPD6',\n 'ENTPD2',\n 'ENTPD5',\n 'ENTPD3',\n 'NUDT5',\n 'ENTPD1',\n 'PFAS',\n 'NT5C1B',\n 'APRT',\n 'PRPS1L1',\n 'PPAT',\n 'NME7',\n 'NT5C',\n 'ALLC',\n 'ZNRD1',\n 'NT5C2',\n 'POLR2G',\n 'POLR2H',\n 'POLR2E',\n 'POLR2F',\n 'POLR2I',\n 'POLR2J',\n 'POLE3',\n 'TYMS',\n 'TXNRD1',\n 'NME6',\n 'POLR1D',\n 'PNPT1',\n 'POLR2K',\n 'DHODH',\n 'POLD3',\n 'POLR2L',\n 'NME1-NME2',\n 'POLA2',\n 'UPRT',\n 'CANT1',\n 'NME4',\n 'NME1',\n 'NME2',\n 'NME3',\n 'POLR3C',\n 'POLR3G',\n 'POLR3F',\n 'NUDT2',\n 'PRIM1',\n 'PRIM2',\n 'NME5',\n 'POLD4',\n 'DTYMK',\n 'CTPS',\n 'POLA1',\n 'ENTPD8',\n 'POLE2',\n 'POLD1',\n 'POLD2',\n 'POLE',\n 'CAD',\n 'CMPK2',\n 'POLR1E',\n 'NT5C1A',\n 'POLR3A',\n 'DCTD',\n 'POLR2B',\n 'POLR2A',\n 'DCK',\n 'POLR2D',\n 'POLR2C',\n 'UCK1',\n 'UPB1',\n 'TXNRD2',\n 'CMPK1',\n 'POLR3K',\n 'RRM2B',\n 'PNP',\n 'POLR1B',\n 'UPP2',\n 'CTPS2',\n 'POLR2J2',\n 'CDA',\n 'NT5M',\n 'DUT',\n 'POLR3H',\n 'UCKL1',\n 'POLR2J3',\n 'POLR1A',\n 'POLR3B',\n 'ENTPD4',\n 'ITPA',\n 'POLR1C',\n 'POLE4',\n 'RRM1',\n 'RRM2',\n 'POLR3D',\n 'NT5C3',\n 'DPYS',\n 'DPYD',\n 'TYMP',\n 'UMPS',\n 'UCK2',\n 'POLR3GL',\n 'TK1',\n 'NT5E',\n 'TK2',\n 'UPP1',\n 'ENTPD6',\n 'ENTPD5',\n 'ENTPD3',\n 'ENTPD1',\n 'NT5C1B',\n 'NT5C',\n 'NME7',\n 'AK3',\n 'ZNRD1',\n 'GLUD2',\n 'GFPT2',\n 'AGXT2',\n 'CPS1',\n 'GLS2',\n 'ABAT',\n 'ADSS',\n 'ADSL',\n 'GLUD1',\n 'GLS',\n 'ASL',\n 'IL4I1',\n 'GPT',\n 'GFPT1',\n 'GPT2',\n 'DDO',\n 'ADSSL1',\n 'ACY3',\n 'GAD1',\n 'GAD2',\n 'GOT2',\n 'AGXT',\n 'GLUL',\n 'NIT2',\n 'GOT1',\n 'ALDH4A1',\n 'CAD',\n 'ALDH5A1',\n 'ASS1',\n 'ASNS',\n 'PPAT',\n 'ASPA',\n 'ALAS1',\n 'ALAS2',\n 'GLYCTK',\n 'MAOB',\n 'AGXT2',\n 'MAOA',\n 'AOC2',\n 'GATM',\n 'SDS',\n 'AOC3',\n 'GNMT',\n 'SHMT1',\n 'GCAT',\n 'PHGDH',\n 'DMGDH',\n 'SHMT2',\n 'SRR',\n 'PSAT1',\n 'BHMT',\n 'GLDC',\n 'DLD',\n 'GAMT',\n 'PSPH',\n 'AGXT',\n 'SARDH',\n 'AMT',\n 'CHDH',\n 'CBS',\n 'CTH',\n 'PIPOX',\n 'DAO',\n 'AMD1',\n 'SRM',\n 'ADI1',\n 'AHCY',\n 'DNMT1',\n 'SDS',\n 'TRDMT1',\n 'DNMT3A',\n 'DNMT3B',\n 'LDHC',\n 'IL4I1',\n 'SMS',\n 'LDHB',\n 'ENOPH1',\n 'BHMT',\n 'GOT2',\n 'CDO1',\n 'APIP',\n 'GOT1',\n 'LDHAL6B',\n 'TAT',\n 'AHCYL1',\n 'MTAP',\n 'MAT2B',\n 'LDHA',\n 'MTR',\n 'CBS',\n 'MAT1A',\n 'AHCYL2',\n 'CTH',\n 'MAT2A',\n 'MPST',\n 'LDHAL6A',\n 'DNMT3L',\n 'AOX1',\n 'ALDH1B1',\n 'ACADS',\n 'ACADSB',\n 'ABAT',\n 'ALDH2',\n 'ACADM',\n 'ACAT2',\n 'HSD17B10',\n 'ACAT1',\n 'OXCT1',\n 'ACAA2',\n 'IL4I1',\n 'HADH',\n 'MCEE',\n 'HADHB',\n 'DBT',\n 'HADHA',\n 'ALDH6A1',\n 'HMGCL',\n 'IVD',\n 'BCKDHB',\n 'ACAD8',\n 'ECHS1',\n 'ALDH9A1',\n 'ALDH3A2',\n 'PCCB',\n 'HIBCH',\n 'DLD',\n 'HMGCS2',\n 'EHHADH',\n 'HMGCS1',\n 'PCCA',\n 'ALDH7A1',\n 'HIBADH',\n 'ACAA1',\n 'OXCT2',\n 'MUT',\n 'MCCC2',\n 'BCAT1',\n 'AUH',\n 'BCAT2',\n 'BCKDHA',\n 'MCCC1',\n 'PDHB',\n 'VARS2',\n 'IARS2',\n 'PDHA1',\n 'PDHA2',\n 'LARS',\n 'LARS2',\n 'VARS',\n 'BCAT1',\n 'BCAT2',\n 'IARS',\n 'SUV39H2',\n 'AASDHPPT',\n 'DLST',\n 'ALDH1B1',\n 'AASDH',\n 'ALDH2',\n 'ACAT2',\n 'PLOD2',\n 'PLOD1',\n 'TMLHE',\n 'EHMT2',\n 'ACAT1',\n 'SETD8',\n 'HADH',\n 'SETMAR',\n 'OGDH',\n 'HADHA',\n 'BBOX1',\n 'AASS',\n 'ECHS1',\n 'ALDH9A1',\n 'ALDH3A2',\n 'SUV420H1',\n 'SUV39H1',\n 'ASH1L',\n 'SETD1B',\n 'DOT1L',\n 'WHSC1',\n 'EHHADH',\n 'OGDHL',\n 'SETD1A',\n 'GCDH',\n 'SUV420H2',\n 'SETD7',\n 'ALDH7A1',\n 'WHSC1L1',\n 'EHMT1',\n 'SETDB1',\n 'AADAT',\n 'SETD2',\n 'SETDB2',\n 'PLOD3',\n 'NSD1',\n 'PIPOX',\n 'SRM',\n 'ADC',\n 'GLUD2',\n 'GLS2',\n 'ARG1',\n 'ARG2',\n 'GLUD1',\n 'GLS',\n 'ASL',\n 'CKMT1A',\n 'P4HA2',\n 'SMS',\n 'CKB',\n 'NOS3',\n 'NOS2',\n 'NOS1',\n 'GOT2',\n 'GLUL',\n 'P4HA1',\n 'ABP1',\n 'ALDH7A1',\n 'LAP3',\n 'AGMAT',\n 'GOT1',\n 'PYCR1',\n 'ASS1',\n 'ALDH18A1',\n 'SAT1',\n 'NAGS',\n 'DAO',\n 'AMD1',\n 'MAOB',\n 'MAOA',\n 'CPS1',\n 'P4HA3',\n 'ALDH1B1',\n 'GATM',\n 'ALDH2',\n 'OTC',\n 'PRODH2',\n 'OAT',\n 'CKM',\n 'ACY1',\n 'SAT2',\n 'ALDH9A1',\n 'ALDH3A2',\n 'CKMT1B',\n 'PYCRL',\n ...]"
     },
     "execution_count": 5,
     "metadata": {},
     "output_type": "execute_result"
    }
   ],
   "source": [
    "gene_lst = []\n",
    "for gene_set in gsea.genesets:\n",
    "    gene_lst += gene_set[2:]\n",
    "gene_lst"
   ],
   "metadata": {
    "collapsed": false,
    "pycharm": {
     "name": "#%%\n"
    }
   }
  },
  {
   "cell_type": "code",
   "execution_count": 6,
   "outputs": [
    {
     "data": {
      "text/plain": "4991"
     },
     "execution_count": 6,
     "metadata": {},
     "output_type": "execute_result"
    }
   ],
   "source": [
    "len(set(gene_lst))"
   ],
   "metadata": {
    "collapsed": false,
    "pycharm": {
     "name": "#%%\n"
    }
   }
  },
  {
   "cell_type": "code",
   "execution_count": 9,
   "outputs": [],
   "source": [
    "from collections import Counter\n",
    "gene_count = Counter(gene_lst)"
   ],
   "metadata": {
    "collapsed": false,
    "pycharm": {
     "name": "#%%\n"
    }
   }
  },
  {
   "cell_type": "code",
   "execution_count": 14,
   "outputs": [
    {
     "data": {
      "text/plain": "<Figure size 432x288 with 1 Axes>",
      "image/png": "[encoded data removed]"
     },
     "metadata": {
      "needs_background": "light"
     },
     "output_type": "display_data"
    }
   ],
   "source": [
    "list(gene_count.values())\n",
    "plt.hist(list(gene_count.values()))\n",
    "plt.show()"
   ],
   "metadata": {
    "collapsed": false,
    "pycharm": {
     "name": "#%%\n"
    }
   }
  },
  {
   "cell_type": "code",
   "execution_count": 16,
   "outputs": [
    {
     "data": {
      "text/plain": "30"
     },
     "execution_count": 16,
     "metadata": {},
     "output_type": "execute_result"
    }
   ],
   "source": [
    "max(gene_count.values())"
   ],
   "metadata": {
    "collapsed": false,
    "pycharm": {
     "name": "#%%\n"
    }
   }
  },
  {
   "cell_type": "code",
   "execution_count": 17,
   "outputs": [
    {
     "name": "stdout",
     "output_type": "stream",
     "text": [
      "MAPK3\n",
      "MAPK1\n"
     ]
    }
   ],
   "source": [
    "for key in gene_count.keys():\n",
    "    if gene_count[key] == 30:\n",
    "        print(key)\n"
   ],
   "metadata": {
    "collapsed": false,
    "pycharm": {
     "name": "#%%\n"
    }
   }
  }
 ],
 "metadata": {
  "kernelspec": {
   "display_name": "Python 3",
   "language": "python",
   "name": "python3"
  },
  "language_info": {
   "codemirror_mode": {
    "name": "ipython",
    "version": 3
   },
   "file_extension": ".py",
   "mimetype": "text/x-python",
   "name": "python",
   "nbconvert_exporter": "python",
   "pygments_lexer": "ipython3",
   "version": "3.8.5"
  }
 },
 "nbformat": 4,
 "nbformat_minor": 1
}